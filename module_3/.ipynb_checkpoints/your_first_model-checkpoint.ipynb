{
 "cells": [
  {
   "cell_type": "markdown",
   "metadata": {},
   "source": [
    "# Загрузка Pandas и очистка данных"
   ]
  },
  {
   "cell_type": "code",
   "execution_count": 56,
   "metadata": {},
   "outputs": [],
   "source": [
    "import pandas as pd\n",
    "import re\n",
    "from datetime import datetime, timedelta\n",
    "import random\n",
    "from textblob import TextBlob\n",
    "from textblob.classifiers import NaiveBayesClassifier"
   ]
  },
  {
   "cell_type": "code",
   "execution_count": 57,
   "metadata": {},
   "outputs": [],
   "source": [
    "train = [\n",
    "    ('Good food at your doorstep', 'pos'),\n",
    "    ('A good hotel restaurant', 'net'),\n",
    "    ('Unique cuisine', 'pos'),\n",
    "    ('Delicious Nepalese food', 'pos'),\n",
    "    ('Everything changed to the worth', 'pos'),\n",
    "    ('Excellent beers', 'pos'),\n",
    "    ('Special place', 'pos'),\n",
    "    ('Our favorite restaurant in Rome', 'pos'),\n",
    "    ('Nice building but improvements need to be.', 'neg'),\n",
    "    (\"When you need a change\", \"net\"),\n",
    "    (\"Wasting of money\", 'neg'),\n",
    "    (\"poor food\", 'neg'),\n",
    "    (\"some rude staf...\", 'neg'),\n",
    "    (\"Early dinner but disappointed\", 'neg'),\n",
    "    (\"The worst experience ever\", 'neg'),\n",
    "    (\"I really did not enjoy the place\", 'neg'),\n",
    "    (\"Disgusting service and awful food\", 'neg'),\n",
    "    (\"Russian cousin\", \"net\"),\n",
    "    (\"Sad aperitivo yet nice location\", \"net\"),\n",
    "    (\"Tapas lunch\", \"net\"),\n",
    "    (\"Lunch\", \"net\"),\n",
    "    (\"Not for couples\", \"net\"),\n",
    "    (\"westernised but still ok\", \"net\"),\n",
    "    (\"A great breakfast place\", \"pos\"),\n",
    "    (\"Most welcoming place ever\", \"pos\")\n",
    "]\n",
    "cl = NaiveBayesClassifier(train)\n",
    "# cl.classify('Authentic but way too expensive')"
   ]
  },
  {
   "cell_type": "code",
   "execution_count": 192,
   "metadata": {},
   "outputs": [],
   "source": [
    "# Ваш код по очистке данных и генерации новых признаков\n",
    "# При необходимости добавьте ячейки\n",
    "\n",
    "df = pd.read_csv('main_task.csv')\n",
    "df.columns = ['restaurant_id', 'city', 'cuisine_style', 'ranking', 'rating', 'price_range', 'number_of_reviews', 'reviews', 'url_ta', 'id_ta']\n",
    "\n",
    "# start changing reviews number\n",
    "def get_list_from_str(s):\n",
    "    return s.split('], [')[0].replace('[', '').replace(\"'\", '').split(', ')\n",
    "\n",
    "def get_reviews_list():\n",
    "    v_list = []\n",
    "    for i, x in enumerate(df['number_of_reviews'].isnull().values):\n",
    "        if x:\n",
    "            v = get_list_from_str(df['reviews'].values[i])\n",
    "            v = list(filter(lambda x: len(x) > 0, v))\n",
    "            v_list.append(len(v))\n",
    "        else:\n",
    "            v_list.append(df['number_of_reviews'][i])\n",
    "    return v_list\n",
    "\n",
    "df['number_of_reviews'] = pd.Series(get_reviews_list())\n",
    "# end changing reviews number\n",
    "\n",
    "df['price_range'] = df['price_range'].fillna(\"$$ - $$$\")\n",
    "prices_dummies = df.price_range.replace(to_replace={\"$\": \"low_price\", \"$$ - $$$\": \"medium_price\", \"$$$$\": \"high_price\"})\n",
    "df = df.join(pd.get_dummies(prices_dummies))\n",
    "\n",
    "def get_time(s):#поиск даты по заданному шаблону и создание списка\n",
    "    t_list = [pd.to_datetime(x) for x in re.findall(r'\\d+/\\d+/\\d+', s)]\n",
    "\n",
    "    if len(t_list) == 0:\n",
    "        return None\n",
    "    \n",
    "    t_list.sort(reverse=True)\n",
    "    return t_list[0]\n",
    "\n",
    "def get_diff_days(s):#поиск даты по заданному шаблону, расчет разницы между днями и их сортировка по убыванию\n",
    "    t_list = [pd.to_datetime(x) for x in re.findall(r'\\d+/\\d+/\\d+', s)]\n",
    "\n",
    "    if len(t_list) == 0:\n",
    "        return 0\n",
    "    \n",
    "    if len(t_list) == 1:\n",
    "        return 0\n",
    "    \n",
    "    t_list.sort(reverse=True)\n",
    "    return (t_list[0] - t_list[1]).days\n",
    "\n",
    "\n",
    "def del_bracket(value):#замена квадратных скобок и одинарных кавычек на пробел\n",
    "    if type(value) == str:\n",
    "        return value.replace(\"[\", \"\").replace(\"]\", \"\").replace(\"'\", \"\")\n",
    "    return value\n",
    "\n",
    "def get_list_columns_by_cuisine():#поиск уникальных значений в колонке Cuisine Style\n",
    "    restorans = df['cuisine_style'].apply(del_bracket).str.split(', ').explode()\n",
    "    return restorans.value_counts().index\n",
    "\n",
    "def get_cuisine_row_value(k, v):\n",
    "    if type(v) == str: \n",
    "        if k in del_bracket(v):\n",
    "            return 1\n",
    "    return 0\n",
    "\n",
    "\n",
    "df['fresh_date'] = df['reviews'].apply(get_time)\n",
    "df['diff_date'] = df['reviews'].apply(get_diff_days)\n",
    "\n",
    "\n",
    "# df['vegetarian_option'] = df['cuisine_style'].fillna('').apply(lambda x: 1 if 'Vegetarian Friendly' in x else 0 )\n",
    "\n",
    "# df['cuisine_style'] = df['cuisine_style'].fillna(\"['Vegetarian Friendly']\")\n",
    "\n",
    "def get_cuisine_num(v):\n",
    "    if type(v) != str:\n",
    "        return 0\n",
    "    l = del_bracket(v).split(', ')\n",
    "    return len(list(filter(lambda x: len(x) > 0, l)))\n",
    "df['cuisine_number'] = df['cuisine_style'].apply(get_cuisine_num)\n",
    "\n",
    "for k, j in enumerate(get_list_columns_by_cuisine()):\n",
    "    df[j] = df['cuisine_style'].apply(lambda x: get_cuisine_row_value(j, x))\n",
    "\n",
    "\n",
    "start_date = df['fresh_date'].dropna()\n",
    "\n",
    "d = start_date.sort_values(ascending=False).values[0]\n",
    "\n",
    "y = pd.Timestamp(d).year\n",
    "\n",
    "def get_date(d):\n",
    "    if pd.Timestamp(d).year == y:\n",
    "        return \"norm\"\n",
    "    return \"outdate\"\n",
    "\n",
    "df['fresh_date'] = df['fresh_date'].apply(get_date)\n",
    "df = df.join(pd.get_dummies(df['fresh_date']))\n",
    "\n",
    "\n",
    "def exist_review(v):\n",
    "    if type(v) == str:\n",
    "        v_l = v.split('], [')[0].replace('[', '').replace(\"'\", '').split(', ')\n",
    "        for t in v_l:\n",
    "            if len(t) == 0:\n",
    "                return 0\n",
    "            return 1\n",
    "            \n",
    "    return 0\n",
    "    \n",
    "f_list = lambda x: list(filter(lambda y: len(y), x))\n",
    "\n",
    "def convert_review(v):\n",
    "    if type(v) == str:\n",
    "        v_l = v.split('], [')[0].replace('[', '').replace(\"'\", '').split(', ')\n",
    "        v_l = f_list(v_l)\n",
    "        if len(v_l) == 0:\n",
    "            return 'net'\n",
    "        s = []\n",
    "        for t in v_l:\n",
    "            s.append(cl.classify(t))\n",
    "        return ', '.join(s)\n",
    "            \n",
    "    return 'net'\n",
    "def get_pos_number(v):\n",
    "    return len(list(filter(lambda y: y == 'pos', v.split(', '))))\n",
    "def get_neg_number(v):\n",
    "    return len(list(filter(lambda y: y == 'neg', v.split(', '))))\n",
    "def get_net_number(v):\n",
    "    return len(list(filter(lambda y: y == 'net', v.split(', '))))\n",
    "\n",
    "buff = df['reviews'].apply(convert_review)\n",
    "for i in ['pos', 'net', 'neg']:\n",
    "    df[i] = buff.apply(lambda x: 1 if i in x else 0)\n",
    "df['neg_number'] = buff.apply(get_neg_number)\n",
    "df['reviews_exist'] = df['reviews'].apply(exist_review)\n",
    "\n",
    "df = df.join(pd.get_dummies(df['city']))\n"
   ]
  },
  {
   "cell_type": "code",
   "execution_count": 193,
   "metadata": {},
   "outputs": [],
   "source": [
    "def get_drop_headers():\n",
    "    l = []\n",
    "    for i, j in enumerate(df.values[0]):\n",
    "        if type(j) != float and type(j) != int:\n",
    "            l.append(df.columns[i])\n",
    "    return l\n",
    "df = df.drop(get_drop_headers(), axis = 1)"
   ]
  },
  {
   "cell_type": "markdown",
   "metadata": {},
   "source": [
    "# Разбиваем датафрейм на части, необходимые для обучения и тестирования модели"
   ]
  },
  {
   "cell_type": "code",
   "execution_count": 195,
   "metadata": {},
   "outputs": [],
   "source": [
    "# Х - данные с информацией о ресторанах, у - целевая переменная (рейтинги ресторанов)\n",
    "X = df.drop(['rating'], axis = 1)  \n",
    "y = df['rating']"
   ]
  },
  {
   "cell_type": "code",
   "execution_count": 196,
   "metadata": {},
   "outputs": [],
   "source": [
    "# Загружаем специальный инструмент для разбивки:\n",
    "from sklearn.model_selection import train_test_split"
   ]
  },
  {
   "cell_type": "code",
   "execution_count": 197,
   "metadata": {},
   "outputs": [],
   "source": [
    "# Наборы данных с меткой \"train\" будут использоваться для обучения модели, \"test\" - для тестирования.\n",
    "# Для тестирования мы будем использовать 25% от исходного датасета.\n",
    "X_train, X_test, y_train, y_test = train_test_split(X, y, test_size=0.25)"
   ]
  },
  {
   "cell_type": "markdown",
   "metadata": {},
   "source": [
    "# Создаём, обучаем и тестируем модель"
   ]
  },
  {
   "cell_type": "code",
   "execution_count": 198,
   "metadata": {},
   "outputs": [],
   "source": [
    "# Импортируем необходимые библиотеки:\n",
    "from sklearn.ensemble import RandomForestRegressor # инструмент для создания и обучения модели\n",
    "from sklearn import metrics # инструменты для оценки точности модели"
   ]
  },
  {
   "cell_type": "code",
   "execution_count": 199,
   "metadata": {},
   "outputs": [],
   "source": [
    "# Создаём модель\n",
    "regr = RandomForestRegressor(n_estimators=100)\n",
    "\n",
    "# Обучаем модель на тестовом наборе данных\n",
    "regr.fit(X_train, y_train)\n",
    "\n",
    "# Используем обученную модель для предсказания рейтинга ресторанов в тестовой выборке.\n",
    "# Предсказанные значения записываем в переменную y_pred\n",
    "y_pred = regr.predict(X_test)"
   ]
  },
  {
   "cell_type": "code",
   "execution_count": 200,
   "metadata": {},
   "outputs": [
    {
     "name": "stdout",
     "output_type": "stream",
     "text": [
      "MAE: 0.2124785\n"
     ]
    }
   ],
   "source": [
    "# Сравниваем предсказанные значения (y_pred) с реальными (y_test), и смотрим насколько они в среднем отличаются\n",
    "# Метрика называется Mean Absolute Error (MAE) и показывает среднее отклонение предсказанных значений от фактических.\n",
    "print('MAE:', metrics.mean_absolute_error(y_test, y_pred))"
   ]
  },
  {
   "cell_type": "code",
   "execution_count": null,
   "metadata": {},
   "outputs": [],
   "source": []
  }
 ],
 "metadata": {
  "kernelspec": {
   "display_name": "Python 3",
   "language": "python",
   "name": "python3"
  },
  "language_info": {
   "codemirror_mode": {
    "name": "ipython",
    "version": 3
   },
   "file_extension": ".py",
   "mimetype": "text/x-python",
   "name": "python",
   "nbconvert_exporter": "python",
   "pygments_lexer": "ipython3",
   "version": "3.8.3"
  }
 },
 "nbformat": 4,
 "nbformat_minor": 2
}
